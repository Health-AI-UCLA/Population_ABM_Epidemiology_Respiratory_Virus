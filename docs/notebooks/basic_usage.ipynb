{
  "cells": [
    {
      "cell_type": "markdown",
      "metadata": {},
      "source": [
        "# Basic Usage of COVID-19 ABM\n",
        "\n",
        "This notebook demonstrates the basic usage of the COVID-19 Agent-Based Model.\n"
      ]
    },
    {
      "cell_type": "code",
      "execution_count": null,
      "metadata": {},
      "outputs": [],
      "source": [
        "import numpy as np\n",
        "import matplotlib.pyplot as plt\n",
        "from covid_abm import (\n",
        "    OpenABMCovid19, \n",
        "    DiseaseParameters, \n",
        "    NetworkParameters, \n",
        "    InterventionParameters,\n",
        "    VaccineParameters\n",
        ")\n"
      ]
    }
  ],
  "metadata": {
    "language_info": {
      "name": "python"
    }
  },
  "nbformat": 4,
  "nbformat_minor": 2
}
